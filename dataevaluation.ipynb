{
 "cells": [
  {
   "cell_type": "code",
   "execution_count": 20,
   "id": "e64feb20",
   "metadata": {},
   "outputs": [],
   "source": [
    "from DataLoader import *\n",
    "from TransCGAN_model import * \n",
    "\n",
    "import os\n",
    "import numpy as np\n",
    "import pandas as pd\n",
    "import matplotlib.pyplot as plt\n",
    "import seaborn as sns\n",
    "import torch\n",
    "from torch.utils import data\n",
    "\n",
    "from minerva.data.data_modules.har_rodrigues_24 import HARDataModuleCPC\n"
   ]
  },
  {
   "cell_type": "code",
   "execution_count": 11,
   "id": "bf73b225",
   "metadata": {},
   "outputs": [
    {
     "name": "stdout",
     "output_type": "stream",
     "text": [
      "X_train shape is (100000, 1, 1, 187)\n",
      "y_train shape is (100000,)\n",
      "The dataset including 20000 class 0, 20000 class 1, 20000 class 2, 20000 class 3, 20000 class 4\n"
     ]
    }
   ],
   "source": [
    "train_set = mitbih_train(filename='/workspaces/container-workspace/tts-cgan/mitbih/mitbih_train.csv')\n",
    "train_loader = data.DataLoader(train_set, batch_size=64, num_workers=10, shuffle=True)\n"
   ]
  },
  {
   "cell_type": "code",
   "execution_count": 19,
   "id": "785628c1",
   "metadata": {},
   "outputs": [
    {
     "data": {
      "text/plain": [
       "tensor([2., 4., 4., 2., 4., 0., 4., 3., 3., 4., 0., 0., 3., 3., 0., 0., 0., 4.,\n",
       "        0., 3., 0., 2., 1., 1., 2., 2., 0., 1., 3., 1., 2., 0., 0., 4., 4., 3.,\n",
       "        1., 1., 2., 3., 0., 3., 4., 4., 0., 1., 1., 4., 3., 1., 0., 0., 0., 2.,\n",
       "        1., 4., 1., 4., 0., 1., 4., 0., 0., 0.], dtype=torch.float64)"
      ]
     },
     "execution_count": 19,
     "metadata": {},
     "output_type": "execute_result"
    }
   ],
   "source": [
    "batch = next(iter(train_loader))\n",
    "batch[1]"
   ]
  },
  {
   "cell_type": "code",
   "execution_count": 27,
   "id": "7b7e1c0c",
   "metadata": {},
   "outputs": [],
   "source": [
    "data_path = '/workspaces/container-workspace/CPC_daghar_data'\n",
    "datasets = ['kuhar', 'motion', 'rw-thigh', 'rw-waist', 'uci', 'wisdm']\n",
    "datasets_path = [os.path.join(data_path ,current_dataset) for current_dataset in datasets]\n",
    "\n",
    "data_module = HARDataModuleCPC(\n",
    "    data_path=datasets_path,\n",
    "    input_size=6,\n",
    "    window=60,\n",
    "    overlap=60,\n",
    "    batch_size=64,\n",
    "    label='standard activity code')\n",
    "\n",
    "data_module.setup('fit')\n",
    "train_loader = data_module.train_dataloader()"
   ]
  },
  {
   "cell_type": "code",
   "execution_count": null,
   "id": "5ed06c17",
   "metadata": {},
   "outputs": [],
   "source": [
    "def reshape_daghar_loader(train_loader):\n",
    "    \"\"\"\n",
    "    Recebe um DataLoader e retorna um novo DataLoader\n",
    "    onde os tensores do batch têm shape (B, 6, 1, 60),\n",
    "    convertendo automaticamente os dados de numpy para tensor.\n",
    "    \"\"\"\n",
    "\n",
    "    def collate_fn_with_unsqueeze(batch):\n",
    "        xs, ys = zip(*batch)  # separa os dados e os rótulos\n",
    "\n",
    "        # Converte cada x para tensor se ainda for numpy\n",
    "        if not isinstance(xs, torch.Tensor):\n",
    "            xs = torch.from_numpy(xs).to(torch.float32)\n",
    "        xs = torch.stack(xs).unsqueeze(2)  # (B, 6, 1, 60)\n",
    "\n",
    "        # Converte ys para tensor também\n",
    "        ys = torch.tensor(ys)\n",
    "        return xs, ys\n",
    "\n",
    "    return DataLoader(\n",
    "        train_loader.dataset,\n",
    "        batch_size=train_loader.batch_size,\n",
    "        shuffle=getattr(train_loader, 'shuffle', True),\n",
    "        num_workers=train_loader.num_workers,\n",
    "        pin_memory=train_loader.pin_memory,\n",
    "        drop_last=train_loader.drop_last,\n",
    "        collate_fn=collate_fn_with_unsqueeze\n",
    "    )\n"
   ]
  },
  {
   "cell_type": "code",
   "execution_count": 79,
   "id": "5c782f81",
   "metadata": {},
   "outputs": [
    {
     "name": "stdout",
     "output_type": "stream",
     "text": [
      "475\n",
      "torch.Size([64, 6, 1, 60])\n"
     ]
    }
   ],
   "source": [
    "train_loader = reshape_train_loader(train_loader)\n",
    "\n",
    "print(len(train_loader))\n",
    "# Teste:\n",
    "batch = next(iter(train_loader))\n",
    "print(batch[0].shape)  # Esperado: torch.Size([64, 6, 1, 60])\n"
   ]
  },
  {
   "cell_type": "code",
   "execution_count": 63,
   "id": "ac7df6b1",
   "metadata": {},
   "outputs": [],
   "source": [
    "gen_net = Generator(seq_len=60, channels=6, num_classes=6, latent_dim=100, data_embed_dim=10, \n",
    "                    label_embed_dim=10 ,depth=3, num_heads=5, \n",
    "                    forward_drop_rate=0.5, attn_drop_rate=0.5)\n",
    "\n",
    "#print(gen_net)\n",
    "dis_net = Discriminator(in_channels=6, patch_size=1, data_emb_size=50, label_emb_size=10, seq_length = 60, depth=3, n_classes=6)\n",
    "#print(dis_net)"
   ]
  },
  {
   "cell_type": "code",
   "execution_count": 66,
   "id": "a2bf1bc2",
   "metadata": {},
   "outputs": [
    {
     "data": {
      "text/plain": [
       "(torch.Size([64, 1]), torch.Size([64, 6]))"
      ]
     },
     "execution_count": 66,
     "metadata": {},
     "output_type": "execute_result"
    }
   ],
   "source": [
    "dis_net(batch[0])[0].shape, dis_net(batch[0])[1].shape"
   ]
  },
  {
   "cell_type": "code",
   "execution_count": 72,
   "id": "b7314122",
   "metadata": {},
   "outputs": [
    {
     "data": {
      "text/plain": [
       "torch.Size([64, 6, 1, 60])"
      ]
     },
     "execution_count": 72,
     "metadata": {},
     "output_type": "execute_result"
    }
   ],
   "source": [
    "label = torch.randint(0, 5, (64,))\n",
    "z = torch.FloatTensor(np.random.normal(0, 1, (64, 100)))\n",
    "\n",
    "gen_net(z, label).shape"
   ]
  }
 ],
 "metadata": {
  "kernelspec": {
   "display_name": "Python 3",
   "language": "python",
   "name": "python3"
  },
  "language_info": {
   "codemirror_mode": {
    "name": "ipython",
    "version": 3
   },
   "file_extension": ".py",
   "mimetype": "text/x-python",
   "name": "python",
   "nbconvert_exporter": "python",
   "pygments_lexer": "ipython3",
   "version": "3.10.6"
  }
 },
 "nbformat": 4,
 "nbformat_minor": 5
}
